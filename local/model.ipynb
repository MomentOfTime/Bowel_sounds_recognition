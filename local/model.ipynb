{
 "cells": [
  {
   "cell_type": "code",
   "execution_count": 1,
   "id": "6071d226",
   "metadata": {},
   "outputs": [
    {
     "name": "stderr",
     "output_type": "stream",
     "text": [
      "D:\\Miniconda3\\envs\\wenet\\lib\\site-packages\\numpy\\_distributor_init.py:30: UserWarning: loaded more than 1 DLL from .libs:\n",
      "D:\\Miniconda3\\envs\\wenet\\lib\\site-packages\\numpy\\.libs\\libopenblas.EL2C6PLE4ZYW3ECEVIV3OXXGRN2NRFM2.gfortran-win_amd64.dll\n",
      "D:\\Miniconda3\\envs\\wenet\\lib\\site-packages\\numpy\\.libs\\libopenblas.QVLO2T66WEPI7JZ63PS3HMOHFEY472BC.gfortran-win_amd64.dll\n",
      "  warnings.warn(\"loaded more than 1 DLL from .libs:\"\n",
      "D:\\Miniconda3\\envs\\wenet\\lib\\site-packages\\torchaudio\\backend\\utils.py:67: UserWarning: No audio backend is available.\n",
      "  warnings.warn('No audio backend is available.')\n"
     ]
    }
   ],
   "source": [
    "import sys\n",
    "sys.path.append('G:/wenet_location/wenet/')\n",
    "import paddle\n",
    "from read_fbank import init_data_list\n",
    "from paddle.io import Dataset, DataLoader\n",
    "import numpy as np"
   ]
  },
  {
   "cell_type": "code",
   "execution_count": 2,
   "id": "527f808a",
   "metadata": {},
   "outputs": [],
   "source": [
    "data_list = init_data_list()"
   ]
  },
  {
   "cell_type": "code",
   "execution_count": 3,
   "id": "bb37c4c7",
   "metadata": {},
   "outputs": [
    {
     "name": "stdout",
     "output_type": "stream",
     "text": [
      "样本数量:2041\n",
      "idx=0, shape=(16, 80), label=1\n",
      "idx=1, shape=(13, 80), label=1\n",
      "idx=2, shape=(16, 80), label=1\n",
      "idx=3, shape=(17, 80), label=1\n",
      "idx=4, shape=(16, 80), label=1\n",
      "idx=5, shape=(25, 80), label=1\n"
     ]
    }
   ],
   "source": [
    "print(\"样本数量:{}\".format(len(data_list)))\n",
    "for index, data in enumerate(data_list):\n",
    "    if index > 5 :\n",
    "        break\n",
    "    print(\"idx={}, shape={}, label={}\".format(index, data[0].shape, data[1]))"
   ]
  },
  {
   "cell_type": "code",
   "execution_count": 4,
   "id": "5a2d69ff",
   "metadata": {
    "scrolled": true
   },
   "outputs": [
    {
     "name": "stdout",
     "output_type": "stream",
     "text": [
      "10\n",
      "223\n"
     ]
    }
   ],
   "source": [
    "print(min(data[0].shape[0] for data in data_list))\n",
    "print(max(data[0].shape[0] for data in data_list))"
   ]
  },
  {
   "cell_type": "code",
   "execution_count": 5,
   "id": "dd3a31d6",
   "metadata": {},
   "outputs": [
    {
     "name": "stdout",
     "output_type": "stream",
     "text": [
      "1224 1632\n",
      "=============train_dataset len is 1224 =============\n",
      "(223, 80) 1\n",
      "=============test_dataset len is 409 =============\n",
      "(223, 80) 1\n",
      "=============val_dataset len is 408 =============\n",
      "(223, 80) 1\n"
     ]
    }
   ],
   "source": [
    "NUM_SAMPLES=len(data_list)\n",
    "BATCH_SIZE = 64\n",
    "BATCH_NUM = NUM_SAMPLES // BATCH_SIZE\n",
    "\n",
    "train_offset = int(NUM_SAMPLES * 0.6)\n",
    "val_offset = int(NUM_SAMPLES * 0.8)\n",
    "print(train_offset, val_offset)\n",
    "\n",
    "class MyDataset(Dataset):\n",
    "    \"\"\"\n",
    "    步骤一：继承paddle.io.Dataset类\n",
    "    \"\"\"\n",
    "    def __init__(self, mode='train'):\n",
    "        \"\"\"\n",
    "        步骤二：实现构造函数，定义数据集大小\n",
    "        \"\"\"\n",
    "        super(MyDataset, self).__init__()\n",
    "        \n",
    "        np.random.shuffle(data_list)\n",
    "        if mode == 'train':\n",
    "            self.data_list = data_list[0: train_offset]\n",
    "            pass\n",
    "        elif mode == 'val':\n",
    "            self.data_list = data_list[train_offset: val_offset]\n",
    "            pass\n",
    "        elif mode == 'test':\n",
    "            self.data_list = data_list[val_offset:]\n",
    "            pass\n",
    "        else:\n",
    "            print(\"mode should be in ['train', 'test', 'val']\")\n",
    "        self.num_samples = len(self.data_list)\n",
    "\n",
    "    def __getitem__(self, index):\n",
    "        \"\"\"\n",
    "        步骤三：实现__getitem__方法，定义指定index时如何获取数据，并返回单条数据（训练数据，对应的标签）\n",
    "        \"\"\"\n",
    "        data = self.data_list[index][0]\n",
    "        padlen = 223 - data.shape[0]\n",
    "        data = np.pad(data, ((0,padlen),(0,0)))\n",
    "        label = np.array(self.data_list[index][1], dtype=np.int64)\n",
    "\n",
    "        return data, label\n",
    "\n",
    "    def __len__(self):\n",
    "        \"\"\"\n",
    "        步骤四：实现__len__方法，返回数据集总数目\n",
    "        \"\"\"\n",
    "        return self.num_samples\n",
    "\n",
    "train_dataset = MyDataset(mode='train')\n",
    "test_dataset = MyDataset(mode='test')\n",
    "val_dataset = MyDataset(mode='val')\n",
    "\n",
    "print('=============train_dataset len is {} ============='.format(len(train_dataset)))\n",
    "for data, label in train_dataset:\n",
    "    print(data.shape, label)\n",
    "    break\n",
    "print('=============test_dataset len is {} ============='.format(len(test_dataset)))\n",
    "for data, label in test_dataset:\n",
    "    print(data.shape, label)\n",
    "    break\n",
    "print('=============val_dataset len is {} ============='.format(len(val_dataset)))\n",
    "for data, label in val_dataset:\n",
    "    print(data.shape, label)\n",
    "    break"
   ]
  },
  {
   "cell_type": "code",
   "execution_count": 6,
   "id": "94f273c9",
   "metadata": {},
   "outputs": [],
   "source": [
    "train_loader = DataLoader(train_dataset, batch_size=BATCH_SIZE, shuffle=True, drop_last=True)\n",
    "test_loader = DataLoader(test_dataset, batch_size=BATCH_SIZE, shuffle=True, drop_last=True)\n",
    "val_loader = DataLoader(val_dataset, batch_size=BATCH_SIZE, shuffle=True, drop_last=True)"
   ]
  },
  {
   "cell_type": "code",
   "execution_count": 7,
   "id": "edf31a53",
   "metadata": {},
   "outputs": [],
   "source": [
    "from paddle.nn import Layer, Linear, AdaptiveAvgPool1D, Softmax, CrossEntropyLoss\n",
    "import paddle.nn.functional as F\n",
    "class MyNet(Layer):\n",
    "    def __init__(self):\n",
    "        super().__init__()\n",
    "        self.linear1 = Linear(80, 128)\n",
    "        self.avgpool1 = AdaptiveAvgPool1D(output_size=1)\n",
    "        self.linear2 = Linear(128, 64)\n",
    "        self.linear3 = Linear(64, 2)\n",
    "    def forward(self, inputs):\n",
    "        # inputs.shape = (B, T, L) B是批大小，T是变长的帧长，L是固定的fbank特征数\n",
    "        # y.shape = (B, L2) B 是批大小，L2是固定长度的特征数\n",
    "\n",
    "        # (1, 223, 80)\n",
    "        y = paddle.zeros((inputs.shape[0],inputs.shape[1],128), dtype=paddle.float32)\n",
    "        for idx in range(inputs.shape[1]):\n",
    "           y[:,idx,:] = self.linear1(inputs[:,idx,:])\n",
    "        # (1, 223, 128)\n",
    "        y = paddle.transpose(y, [0, 2, 1])\n",
    "        # (1, 128, 223)\n",
    "        y = self.avgpool1(y)\n",
    "        y = y[:, :, 0]\n",
    "        # (1, 128)\n",
    "        y = self.linear2(y)\n",
    "        y = F.relu(y)\n",
    "        # (1, 64)\n",
    "        y = self.linear3(y)\n",
    "        # (1, 2)\n",
    "        return y"
   ]
  },
  {
   "cell_type": "code",
   "execution_count": 8,
   "id": "a10638ea",
   "metadata": {},
   "outputs": [
    {
     "name": "stdout",
     "output_type": "stream",
     "text": [
      "-------------------------------------------------------------------------------\n",
      "   Layer (type)         Input Shape          Output Shape         Param #    \n",
      "===============================================================================\n",
      "     Linear-1            [[1, 80]]             [1, 128]           10,368     \n",
      "AdaptiveAvgPool1D-1    [[1, 128, 10]]        [1, 128, 1]             0       \n",
      "     Linear-2            [[1, 128]]            [1, 64]             8,256     \n",
      "     Linear-3            [[1, 64]]              [1, 2]              130      \n",
      "===============================================================================\n",
      "Total params: 18,754\n",
      "Trainable params: 18,754\n",
      "Non-trainable params: 0\n",
      "-------------------------------------------------------------------------------\n",
      "Input size (MB): 0.00\n",
      "Forward/backward pass size (MB): 0.00\n",
      "Params size (MB): 0.07\n",
      "Estimated Total Size (MB): 0.08\n",
      "-------------------------------------------------------------------------------\n",
      "\n"
     ]
    },
    {
     "data": {
      "text/plain": [
       "{'total_params': 18754, 'trainable_params': 18754}"
      ]
     },
     "execution_count": 8,
     "metadata": {},
     "output_type": "execute_result"
    }
   ],
   "source": [
    "paddle.summary(MyNet(), (1, 10, 80))"
   ]
  },
  {
   "cell_type": "code",
   "execution_count": 9,
   "id": "2acc8d98",
   "metadata": {},
   "outputs": [],
   "source": [
    "class PrecisionSoft(paddle.metric.Metric):\n",
    "    \"\"\"\n",
    "    1. 继承paddle.metric.Metric\n",
    "    \"\"\"\n",
    "    def __init__(self, name='PrecisionSoft'):\n",
    "        \"\"\"\n",
    "        2. 构造函数实现，自定义参数即可\n",
    "        \"\"\"\n",
    "        super(PrecisionSoft, self).__init__()\n",
    "        self.tp = 0\n",
    "        self.fp = 0\n",
    "        self._name = name\n",
    "\n",
    "    def name(self):\n",
    "        \"\"\"\n",
    "        3. 实现name方法，返回定义的评估指标名字\n",
    "        \"\"\"\n",
    "        return self._name\n",
    "\n",
    "    def update(self, preds, labels):\n",
    "        \"\"\"\n",
    "        5. 实现update方法，用于单个batch训练时进行评估指标计算。\n",
    "        - 当`compute`类函数未实现时，会将模型的计算输出和标签数据的展平作为`update`的参数传入。\n",
    "        - 当`compute`类函数做了实现时，会将compute的返回结果作为`update`的参数传入。\n",
    "        \"\"\"   \n",
    "        sample_num = labels.shape[0]\n",
    "\n",
    "        preds = paddle.to_tensor(preds, dtype=paddle.float32)\n",
    "        # print(\"preds={}\".format(preds))\n",
    "        preds = paddle.argsort(preds, descending=True)\n",
    "        preds = paddle.slice(\n",
    "            preds, axes=[len(preds.shape) - 1], starts=[0], ends=[1])\n",
    "        # print(preds)\n",
    "        # print(len(preds),sample_num)\n",
    "        for i in range(sample_num):\n",
    "            pred = preds[i, 0].numpy()[0]\n",
    "            label = labels[i]\n",
    "            \n",
    "            if pred == 1:\n",
    "                #print(\"VALUE = {}:{}, DTYPE={}:{}\".format(pred, label, pred.dtype, label.dtype))\n",
    "                if pred == label:\n",
    "                    self.tp += 1\n",
    "                else:\n",
    "                    self.fp += 1\n",
    "\n",
    "    def accumulate(self):\n",
    "        \"\"\"\n",
    "        6. 实现accumulate方法，返回历史batch训练积累后计算得到的评价指标值。\n",
    "        每次`update`调用时进行数据积累，`accumulate`计算时对积累的所有数据进行计算并返回。\n",
    "        结算结果会在`fit`接口的训练日志中呈现。\n",
    "        \"\"\"\n",
    "        # 利用update中积累的成员变量数据进行计算后返回\n",
    "        ap = self.tp + self.fp\n",
    "        return float(self.tp) / ap if ap != 0 else .0\n",
    "\n",
    "    def reset(self):\n",
    "        \"\"\"\n",
    "        7. 实现reset方法，每个Epoch结束后进行评估指标的重置，这样下个Epoch可以重新进行计算。\n",
    "        \"\"\"\n",
    "        # do reset action\n",
    "        self.tp = 0\n",
    "        self.fp = 0"
   ]
  },
  {
   "cell_type": "code",
   "execution_count": 10,
   "id": "6edce550",
   "metadata": {},
   "outputs": [],
   "source": [
    "class RecallSoft(paddle.metric.Metric):\n",
    "    \"\"\"\n",
    "    1. 继承paddle.metric.Metric\n",
    "    \"\"\"\n",
    "    def __init__(self, name='RecallSoft'):\n",
    "        \"\"\"\n",
    "        2. 构造函数实现，自定义参数即可\n",
    "        \"\"\"\n",
    "        super(RecallSoft, self).__init__()\n",
    "        self.tp = 0\n",
    "        self.fn = 0\n",
    "        self._name = name\n",
    "\n",
    "    def name(self):\n",
    "        \"\"\"\n",
    "        3. 实现name方法，返回定义的评估指标名字\n",
    "        \"\"\"\n",
    "        return self._name\n",
    "\n",
    "    def update(self, preds, labels):\n",
    "        \"\"\"\n",
    "        5. 实现update方法，用于单个batch训练时进行评估指标计算。\n",
    "        - 当`compute`类函数未实现时，会将模型的计算输出和标签数据的展平作为`update`的参数传入。\n",
    "        - 当`compute`类函数做了实现时，会将compute的返回结果作为`update`的参数传入。\n",
    "        \"\"\"   \n",
    "        sample_num = labels.shape[0]\n",
    "\n",
    "        preds = paddle.to_tensor(preds, dtype=paddle.float32)\n",
    "        # print(\"preds={}\".format(preds))\n",
    "        preds = paddle.argsort(preds, descending=True)\n",
    "        preds = paddle.slice(\n",
    "            preds, axes=[len(preds.shape) - 1], starts=[0], ends=[1])\n",
    "        # print(preds)\n",
    "        # print(len(preds),sample_num)\n",
    "        \n",
    "        for i in range(sample_num):\n",
    "            pred = preds[i, 0].numpy()[0]\n",
    "            label = labels[i]\n",
    "            \n",
    "            if label == 1:\n",
    "                #print(\"VALUE = {}:{}, DTYPE={}:{}\".format(pred, label, pred.dtype, label.dtype))\n",
    "                if pred == label:\n",
    "                    self.tp += 1\n",
    "                else:\n",
    "                    self.fn += 1\n",
    "\n",
    "    def accumulate(self):\n",
    "        \"\"\"\n",
    "        6. 实现accumulate方法，返回历史batch训练积累后计算得到的评价指标值。\n",
    "        每次`update`调用时进行数据积累，`accumulate`计算时对积累的所有数据进行计算并返回。\n",
    "        结算结果会在`fit`接口的训练日志中呈现。\n",
    "        \"\"\"\n",
    "        # 利用update中积累的成员变量数据进行计算后返回\n",
    "        recall = self.tp + self.fn\n",
    "        return float(self.tp) / recall if recall != 0 else .0\n",
    "\n",
    "    def reset(self):\n",
    "        \"\"\"\n",
    "        7. 实现reset方法，每个Epoch结束后进行评估指标的重置，这样下个Epoch可以重新进行计算。\n",
    "        \"\"\"\n",
    "        # do reset action\n",
    "        self.tp = 0\n",
    "        self.fn = 0"
   ]
  },
  {
   "cell_type": "code",
   "execution_count": 11,
   "id": "daeea188",
   "metadata": {},
   "outputs": [],
   "source": [
    "class F1soft(paddle.metric.Metric):\n",
    "    \"\"\"\n",
    "    1. 继承paddle.metric.Metric\n",
    "    \"\"\"\n",
    "    def __init__(self, name='F1soft'):\n",
    "        \"\"\"\n",
    "        2. 构造函数实现，自定义参数即可\n",
    "        \"\"\"\n",
    "        super(F1soft, self).__init__()\n",
    "        self.tp1 = 0\n",
    "        self.fn = 0\n",
    "        \n",
    "        self.tp2 = 0\n",
    "        self.fp = 0\n",
    "        self._name = name\n",
    "\n",
    "    def name(self):\n",
    "        \"\"\"\n",
    "        3. 实现name方法，返回定义的评估指标名字\n",
    "        \"\"\"\n",
    "        return self._name\n",
    "\n",
    "    def update(self, preds, labels):\n",
    "        \"\"\"\n",
    "        5. 实现update方法，用于单个batch训练时进行评估指标计算。\n",
    "        - 当`compute`类函数未实现时，会将模型的计算输出和标签数据的展平作为`update`的参数传入。\n",
    "        - 当`compute`类函数做了实现时，会将compute的返回结果作为`update`的参数传入。\n",
    "        \"\"\"   \n",
    "        sample_num = labels.shape[0]\n",
    "\n",
    "        preds = paddle.to_tensor(preds, dtype=paddle.float32)\n",
    "        # print(\"preds={}\".format(preds))\n",
    "        preds = paddle.argsort(preds, descending=True)\n",
    "        preds = paddle.slice(\n",
    "            preds, axes=[len(preds.shape) - 1], starts=[0], ends=[1])\n",
    "        # print(preds)\n",
    "        # print(len(preds),sample_num)\n",
    "        \n",
    "        for i in range(sample_num):\n",
    "            pred = preds[i, 0].numpy()[0]\n",
    "            label = labels[i]\n",
    "            \n",
    "            if label == 1:\n",
    "                #print(\"VALUE = {}:{}, DTYPE={}:{}\".format(pred, label, pred.dtype, label.dtype))\n",
    "                if pred == label:\n",
    "                    self.tp1 += 1\n",
    "                else:\n",
    "                    self.fn += 1\n",
    "            \n",
    "            if pred == 1:\n",
    "                if pred == label:\n",
    "                    self.tp2 += 1\n",
    "                else:\n",
    "                    self.fp += 1\n",
    "                \n",
    "                    \n",
    "        \n",
    "\n",
    "    def accumulate(self):\n",
    "        \"\"\"\n",
    "        6. 实现accumulate方法，返回历史batch训练积累后计算得到的评价指标值。\n",
    "        每次`update`调用时进行数据积累，`accumulate`计算时对积累的所有数据进行计算并返回。\n",
    "        结算结果会在`fit`接口的训练日志中呈现。\n",
    "        \"\"\"\n",
    "        # 利用update中积累的成员变量数据进行计算后返回\n",
    "        ap = self.tp2 + self.fp\n",
    "        recall = self.tp1 + self.fn\n",
    "        \n",
    "        ap = float(self.tp2) / ap if ap != 0 else .0\n",
    "        recall = float(self.tp1) / recall if recall != 0 else .0\n",
    "        \n",
    "        return 2 * (ap * recall) / (ap + recall) if (ap + recall) != 0 else .0\n",
    "        \n",
    "    def reset(self):\n",
    "        \"\"\"\n",
    "        7. 实现reset方法，每个Epoch结束后进行评估指标的重置，这样下个Epoch可以重新进行计算。\n",
    "        \"\"\"\n",
    "        # do reset action\n",
    "        self.tp1 = 0\n",
    "        self.fn = 0\n",
    "        self.tp2 = 0\n",
    "        self.fp = 0"
   ]
  },
  {
   "cell_type": "code",
   "execution_count": 12,
   "id": "2f66f619",
   "metadata": {},
   "outputs": [
    {
     "name": "stdout",
     "output_type": "stream",
     "text": [
      "The loss value printed in the log is the current step, and the metric is the average value of previous steps.\n",
      "Epoch 1/10\n"
     ]
    },
    {
     "name": "stderr",
     "output_type": "stream",
     "text": [
      "D:\\Miniconda3\\envs\\wenet\\lib\\site-packages\\paddle\\fluid\\layers\\utils.py:77: DeprecationWarning: Using or importing the ABCs from 'collections' instead of from 'collections.abc' is deprecated since Python 3.3, and in 3.10 it will stop working\n",
      "  return (isinstance(seq, collections.Sequence) and\n"
     ]
    },
    {
     "name": "stdout",
     "output_type": "stream",
     "text": [
      "step 10/19 - loss: 0.5410 - acc: 0.8281 - PrecisionSoft: 0.9167 - RecallSoft: 0.8949 - F1soft: 0.9057 - 214ms/step\n",
      "step 19/19 - loss: 0.4673 - acc: 0.8808 - PrecisionSoft: 0.9280 - RecallSoft: 0.9452 - F1soft: 0.9365 - 214ms/step\n",
      "Eval begin...\n",
      "step 6/6 - loss: 0.4824 - acc: 0.9453 - PrecisionSoft: 0.9453 - RecallSoft: 1.0000 - F1soft: 0.9719 - 141ms/step\n",
      "Eval samples: 384\n",
      "Epoch 2/10\n",
      "step 10/19 - loss: 0.2402 - acc: 0.9328 - PrecisionSoft: 0.9328 - RecallSoft: 1.0000 - F1soft: 0.9652 - 197ms/step\n",
      "step 19/19 - loss: 0.3511 - acc: 0.9301 - PrecisionSoft: 0.9301 - RecallSoft: 1.0000 - F1soft: 0.9638 - 196ms/step\n",
      "Eval begin...\n",
      "step 6/6 - loss: 0.3569 - acc: 0.9453 - PrecisionSoft: 0.9453 - RecallSoft: 1.0000 - F1soft: 0.9719 - 139ms/step\n",
      "Eval samples: 384\n",
      "Epoch 3/10\n",
      "step 10/19 - loss: 0.3060 - acc: 0.9313 - PrecisionSoft: 0.9313 - RecallSoft: 1.0000 - F1soft: 0.9644 - 198ms/step\n",
      "step 19/19 - loss: 0.4810 - acc: 0.9301 - PrecisionSoft: 0.9301 - RecallSoft: 1.0000 - F1soft: 0.9638 - 196ms/step\n",
      "Eval begin...\n",
      "step 6/6 - loss: 0.3675 - acc: 0.9479 - PrecisionSoft: 0.9504 - RecallSoft: 0.9973 - F1soft: 0.9733 - 171ms/step\n",
      "Eval samples: 384\n",
      "Epoch 4/10\n",
      "step 10/19 - loss: 0.4731 - acc: 0.9203 - PrecisionSoft: 0.9218 - RecallSoft: 0.9983 - F1soft: 0.9585 - 213ms/step\n",
      "step 19/19 - loss: 0.2288 - acc: 0.9293 - PrecisionSoft: 0.9300 - RecallSoft: 0.9991 - F1soft: 0.9633 - 202ms/step\n",
      "Eval begin...\n",
      "step 6/6 - loss: 0.2231 - acc: 0.9479 - PrecisionSoft: 0.9479 - RecallSoft: 1.0000 - F1soft: 0.9733 - 140ms/step\n",
      "Eval samples: 384\n",
      "Epoch 5/10\n",
      "step 10/19 - loss: 0.3428 - acc: 0.9266 - PrecisionSoft: 0.9279 - RecallSoft: 0.9983 - F1soft: 0.9618 - 197ms/step\n",
      "step 19/19 - loss: 0.3204 - acc: 0.9293 - PrecisionSoft: 0.9315 - RecallSoft: 0.9973 - F1soft: 0.9633 - 193ms/step\n",
      "Eval begin...\n",
      "step 6/6 - loss: 0.2424 - acc: 0.9453 - PrecisionSoft: 0.9478 - RecallSoft: 0.9973 - F1soft: 0.9719 - 136ms/step\n",
      "Eval samples: 384\n",
      "Epoch 6/10\n",
      "step 10/19 - loss: 0.3199 - acc: 0.9281 - PrecisionSoft: 0.9323 - RecallSoft: 0.9950 - F1soft: 0.9626 - 210ms/step\n",
      "step 19/19 - loss: 0.4314 - acc: 0.9301 - PrecisionSoft: 0.9337 - RecallSoft: 0.9956 - F1soft: 0.9636 - 219ms/step\n",
      "Eval begin...\n",
      "step 6/6 - loss: 0.1798 - acc: 0.9531 - PrecisionSoft: 0.9555 - RecallSoft: 0.9973 - F1soft: 0.9759 - 150ms/step\n",
      "Eval samples: 384\n",
      "Epoch 7/10\n",
      "step 10/19 - loss: 0.2322 - acc: 0.9375 - PrecisionSoft: 0.9415 - RecallSoft: 0.9950 - F1soft: 0.9675 - 196ms/step\n",
      "step 19/19 - loss: 0.2832 - acc: 0.9301 - PrecisionSoft: 0.9343 - RecallSoft: 0.9947 - F1soft: 0.9636 - 198ms/step\n",
      "Eval begin...\n",
      "step 6/6 - loss: 0.3099 - acc: 0.9505 - PrecisionSoft: 0.9676 - RecallSoft: 0.9808 - F1soft: 0.9741 - 163ms/step\n",
      "Eval samples: 384\n",
      "Epoch 8/10\n",
      "step 10/19 - loss: 0.2156 - acc: 0.9328 - PrecisionSoft: 0.9441 - RecallSoft: 0.9866 - F1soft: 0.9649 - 234ms/step\n",
      "step 19/19 - loss: 0.2494 - acc: 0.9285 - PrecisionSoft: 0.9365 - RecallSoft: 0.9903 - F1soft: 0.9626 - 231ms/step\n",
      "Eval begin...\n",
      "step 6/6 - loss: 0.1944 - acc: 0.9635 - PrecisionSoft: 0.9656 - RecallSoft: 0.9973 - F1soft: 0.9812 - 142ms/step\n",
      "Eval samples: 384\n",
      "Epoch 9/10\n",
      "step 10/19 - loss: 0.4138 - acc: 0.9094 - PrecisionSoft: 0.9303 - RecallSoft: 0.9745 - F1soft: 0.9519 - 226ms/step\n",
      "step 19/19 - loss: 0.4826 - acc: 0.9252 - PrecisionSoft: 0.9377 - RecallSoft: 0.9850 - F1soft: 0.9607 - 214ms/step\n",
      "Eval begin...\n",
      "step 6/6 - loss: 0.5841 - acc: 0.9479 - PrecisionSoft: 0.9479 - RecallSoft: 1.0000 - F1soft: 0.9733 - 140ms/step\n",
      "Eval samples: 384\n",
      "Epoch 10/10\n",
      "step 10/19 - loss: 0.2610 - acc: 0.9422 - PrecisionSoft: 0.9489 - RecallSoft: 0.9917 - F1soft: 0.9698 - 204ms/step\n",
      "step 19/19 - loss: 0.2051 - acc: 0.9326 - PrecisionSoft: 0.9374 - RecallSoft: 0.9938 - F1soft: 0.9648 - 198ms/step\n",
      "Eval begin...\n",
      "step 6/6 - loss: 0.2304 - acc: 0.9583 - PrecisionSoft: 0.9629 - RecallSoft: 0.9945 - F1soft: 0.9784 - 135ms/step\n",
      "Eval samples: 384\n"
     ]
    }
   ],
   "source": [
    "from paddle import Model\n",
    "from paddle.optimizer import Adam\n",
    "from paddle.metric import Accuracy, Precision, Recall\n",
    "\n",
    "model = Model(MyNet())\n",
    "\n",
    "model.prepare(Adam(learning_rate=0.001, parameters= model.parameters()),\n",
    "             CrossEntropyLoss(),\n",
    "              [Accuracy(), PrecisionSoft(), RecallSoft(), F1soft()]\n",
    "             )\n",
    "\n",
    "model.fit(train_loader,val_loader,epochs=10, verbose=2)\n"
   ]
  },
  {
   "cell_type": "code",
   "execution_count": 13,
   "id": "bb132cd9",
   "metadata": {},
   "outputs": [
    {
     "name": "stdout",
     "output_type": "stream",
     "text": [
      "Predict begin...\n",
      "step 6/6 [==============================] - 96ms/step           \n",
      "Predict samples: 384\n",
      "1 6 (64, 2)\n",
      "[1, 6, 64, 1]\n"
     ]
    }
   ],
   "source": [
    "result = model.predict(test_loader)\n",
    "print(len(result), len(result[0]), result[0][0].shape)\n",
    "result = paddle.argsort(paddle.to_tensor(result), descending=True)\n",
    "result = paddle.slice(result, axes=[len(result.shape) - 1], starts=[0], ends=[1])\n",
    "print(result.shape)"
   ]
  },
  {
   "cell_type": "code",
   "execution_count": 14,
   "id": "98e12a28",
   "metadata": {},
   "outputs": [
    {
     "data": {
      "text/plain": [
       "Tensor(shape=[6, 64], dtype=int64, place=CUDAPlace(0), stop_gradient=True,\n",
       "       [[1, 1, 1, 1, 1, 1, 1, 1, 1, 1, 1, 1, 1, 1, 1, 1, 1, 1, 1, 1, 1, 1, 1, 1,\n",
       "         1, 1, 1, 1, 1, 1, 1, 1, 0, 1, 1, 1, 1, 1, 1, 1, 1, 1, 1, 1, 1, 1, 1, 1,\n",
       "         1, 1, 1, 1, 1, 1, 1, 1, 1, 1, 1, 1, 1, 1, 1, 1],\n",
       "        [1, 1, 1, 0, 1, 1, 1, 1, 1, 1, 1, 1, 1, 1, 1, 1, 1, 1, 1, 1, 1, 0, 1, 1,\n",
       "         1, 1, 1, 1, 1, 1, 1, 1, 1, 0, 1, 1, 1, 1, 1, 0, 1, 1, 1, 1, 1, 1, 1, 1,\n",
       "         1, 1, 1, 1, 1, 1, 0, 1, 1, 1, 1, 1, 1, 1, 1, 1],\n",
       "        [1, 1, 1, 1, 1, 1, 1, 1, 1, 1, 1, 1, 1, 1, 1, 1, 1, 1, 1, 1, 1, 1, 1, 0,\n",
       "         1, 1, 1, 1, 1, 0, 1, 1, 1, 1, 1, 1, 1, 0, 1, 1, 1, 1, 1, 1, 1, 1, 1, 1,\n",
       "         1, 1, 1, 1, 1, 1, 1, 1, 1, 1, 1, 1, 1, 1, 1, 1],\n",
       "        [1, 1, 1, 1, 1, 0, 1, 1, 1, 1, 1, 1, 1, 1, 1, 1, 1, 1, 1, 1, 1, 1, 1, 1,\n",
       "         1, 1, 1, 1, 1, 1, 1, 1, 1, 1, 1, 1, 1, 0, 1, 1, 1, 1, 1, 1, 1, 1, 1, 1,\n",
       "         1, 1, 1, 1, 1, 1, 1, 1, 1, 1, 1, 1, 1, 1, 1, 1],\n",
       "        [1, 1, 1, 1, 1, 1, 1, 1, 1, 1, 1, 1, 1, 1, 1, 0, 1, 1, 1, 1, 1, 1, 1, 1,\n",
       "         1, 1, 1, 1, 1, 1, 1, 1, 1, 1, 1, 1, 1, 1, 1, 1, 1, 1, 1, 1, 1, 1, 1, 1,\n",
       "         1, 1, 1, 1, 1, 1, 1, 1, 1, 1, 1, 1, 1, 1, 1, 1],\n",
       "        [1, 1, 1, 1, 1, 1, 1, 1, 1, 1, 1, 1, 1, 1, 1, 1, 1, 1, 1, 1, 1, 1, 1, 1,\n",
       "         1, 1, 1, 1, 1, 1, 1, 1, 1, 1, 1, 1, 1, 1, 1, 1, 1, 1, 1, 1, 1, 1, 1, 1,\n",
       "         1, 1, 1, 1, 1, 1, 1, 1, 1, 1, 1, 1, 1, 1, 1, 1]])"
      ]
     },
     "execution_count": 14,
     "metadata": {},
     "output_type": "execute_result"
    }
   ],
   "source": [
    "result = result[0,:,:,0]\n",
    "result"
   ]
  },
  {
   "cell_type": "markdown",
   "id": "bfd1abd7",
   "metadata": {},
   "source": [
    "查看第一个批样本（64个）中，有几个预测为0，检验为12个预测为0， （64-12） = 52个预测为1"
   ]
  },
  {
   "cell_type": "code",
   "execution_count": 15,
   "id": "cfd08f15",
   "metadata": {},
   "outputs": [
    {
     "name": "stdout",
     "output_type": "stream",
     "text": [
      "Tensor(shape=[1], dtype=float32, place=CUDAPlace(0), stop_gradient=True,\n",
      "       [12.])\n"
     ]
    }
   ],
   "source": [
    "t_r = paddle.where(result == 0, paddle.ones(result.shape), paddle.zeros(result.shape))\n",
    "print(paddle.sum(t_r))"
   ]
  },
  {
   "cell_type": "code",
   "execution_count": 17,
   "id": "67c5e4e7",
   "metadata": {},
   "outputs": [
    {
     "name": "stdout",
     "output_type": "stream",
     "text": [
      "Collecting pandoc\n",
      "  Downloading pandoc-2.1.tar.gz (29 kB)\n",
      "Collecting plumbum\n",
      "  Downloading plumbum-1.7.2-py2.py3-none-any.whl (117 kB)\n",
      "Collecting ply\n",
      "  Using cached ply-3.11-py2.py3-none-any.whl (49 kB)\n",
      "Requirement already satisfied: pywin32 in d:\\miniconda3\\envs\\wenet\\lib\\site-packages (from plumbum->pandoc) (303)\n",
      "Building wheels for collected packages: pandoc\n",
      "  Building wheel for pandoc (setup.py): started\n",
      "  Building wheel for pandoc (setup.py): finished with status 'done'\n",
      "  Created wheel for pandoc: filename=pandoc-2.1-py3-none-any.whl size=29531 sha256=7aa1171e074b7a1e5214bb7289ceb0f18fb7c8837091e0f229749d1e7ffd885f\n",
      "  Stored in directory: c:\\users\\11347\\appdata\\local\\pip\\cache\\wheels\\ce\\41\\63\\bf7cb60c03dc7f93180e91e0972c12345b40bf59212d307157\n",
      "Successfully built pandoc\n",
      "Installing collected packages: ply, plumbum, pandoc\n",
      "Successfully installed pandoc-2.1 plumbum-1.7.2 ply-3.11\n"
     ]
    },
    {
     "name": "stderr",
     "output_type": "stream",
     "text": [
      "WARNING: Error parsing requirements for numpy: [Errno 2] No such file or directory: 'd:\\\\miniconda3\\\\envs\\\\wenet\\\\lib\\\\site-packages\\\\numpy-1.22.2.dist-info\\\\METADATA'\n"
     ]
    }
   ],
   "source": [
    "!pip install pandoc "
   ]
  },
  {
   "cell_type": "code",
   "execution_count": null,
   "id": "be350280",
   "metadata": {},
   "outputs": [],
   "source": []
  },
  {
   "cell_type": "code",
   "execution_count": null,
   "id": "7f22b35f",
   "metadata": {},
   "outputs": [],
   "source": []
  },
  {
   "cell_type": "code",
   "execution_count": null,
   "id": "368f2033",
   "metadata": {},
   "outputs": [],
   "source": []
  }
 ],
 "metadata": {
  "kernelspec": {
   "display_name": "Python 3 (ipykernel)",
   "language": "python",
   "name": "python3"
  },
  "language_info": {
   "codemirror_mode": {
    "name": "ipython",
    "version": 3
   },
   "file_extension": ".py",
   "mimetype": "text/x-python",
   "name": "python",
   "nbconvert_exporter": "python",
   "pygments_lexer": "ipython3",
   "version": "3.8.12"
  },
  "toc": {
   "base_numbering": 1,
   "nav_menu": {},
   "number_sections": true,
   "sideBar": true,
   "skip_h1_title": false,
   "title_cell": "Table of Contents",
   "title_sidebar": "Contents",
   "toc_cell": false,
   "toc_position": {},
   "toc_section_display": true,
   "toc_window_display": false
  }
 },
 "nbformat": 4,
 "nbformat_minor": 5
}
